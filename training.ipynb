{
 "cells": [
  {
   "cell_type": "code",
   "execution_count": 1,
   "metadata": {},
   "outputs": [],
   "source": [
    "import tensorflow as tf"
   ]
  },
  {
   "cell_type": "code",
   "execution_count": 2,
   "metadata": {},
   "outputs": [],
   "source": [
    "from tensorflow.keras.models import Sequential\n",
    "from tensorflow.keras.layers import Dense, Conv2D, Flatten, Dropout, MaxPooling2D\n",
    "from tensorflow.keras.preprocessing.image import ImageDataGenerator\n",
    "\n",
    "import os\n",
    "import numpy as np\n",
    "import matplotlib.pyplot as plt"
   ]
  },
  {
   "cell_type": "code",
   "execution_count": 3,
   "metadata": {},
   "outputs": [
    {
     "name": "stdout",
     "output_type": "stream",
     "text": [
      "['cats', 'dogs']\n"
     ]
    }
   ],
   "source": [
    "PATH = os.path.join(os.getcwd(), 'training')\n",
    "train_dir = os.path.join(PATH, 'train')\n",
    "validation_dir = os.path.join(PATH, 'validation')\n",
    "print(os.listdir(train_dir))"
   ]
  },
  {
   "cell_type": "code",
   "execution_count": 4,
   "metadata": {},
   "outputs": [
    {
     "name": "stdout",
     "output_type": "stream",
     "text": [
      "['cat.0.jpg', 'cat.1.jpg', 'cat.10.jpg', 'cat.100.jpg', 'cat.101.jpg', 'cat.102.jpg', 'cat.103.jpg', 'cat.104.jpg', 'cat.105.jpg', 'cat.106.jpg', 'cat.107.jpg', 'cat.108.jpg', 'cat.109.jpg', 'cat.11.jpg', 'cat.110.jpg', 'cat.111.jpg', 'cat.112.jpg', 'cat.113.jpg', 'cat.114.jpg', 'cat.115.jpg', 'cat.116.jpg', 'cat.117.jpg', 'cat.118.jpg', 'cat.119.jpg', 'cat.12.jpg', 'cat.120.jpg', 'cat.121.jpg', 'cat.122.jpg', 'cat.123.jpg', 'cat.124.jpg', 'cat.125.jpg', 'cat.126.jpg', 'cat.127.jpg', 'cat.128.jpg', 'cat.129.jpg', 'cat.13.jpg', 'cat.130.jpg', 'cat.131.jpg', 'cat.132.jpg', 'cat.133.jpg', 'cat.134.jpg', 'cat.135.jpg', 'cat.136.jpg', 'cat.137.jpg', 'cat.138.jpg', 'cat.139.jpg', 'cat.14.jpg', 'cat.140.jpg', 'cat.141.jpg', 'cat.142.jpg', 'cat.143.jpg', 'cat.144.jpg', 'cat.145.jpg', 'cat.146.jpg', 'cat.147.jpg', 'cat.148.jpg', 'cat.149.jpg', 'cat.15.jpg', 'cat.150.jpg', 'cat.151.jpg', 'cat.152.jpg', 'cat.153.jpg', 'cat.154.jpg', 'cat.155.jpg', 'cat.156.jpg', 'cat.157.jpg', 'cat.158.jpg', 'cat.159.jpg', 'cat.16.jpg', 'cat.160.jpg', 'cat.161.jpg', 'cat.162.jpg', 'cat.163.jpg', 'cat.164.jpg', 'cat.165.jpg', 'cat.166.jpg', 'cat.167.jpg', 'cat.168.jpg', 'cat.169.jpg', 'cat.17.jpg', 'cat.170.jpg', 'cat.171.jpg', 'cat.172.jpg', 'cat.173.jpg', 'cat.174.jpg', 'cat.175.jpg', 'cat.176.jpg', 'cat.177.jpg', 'cat.178.jpg', 'cat.179.jpg', 'cat.18.jpg', 'cat.180.jpg', 'cat.181.jpg', 'cat.182.jpg', 'cat.183.jpg', 'cat.184.jpg', 'cat.185.jpg', 'cat.186.jpg', 'cat.187.jpg', 'cat.188.jpg', 'cat.189.jpg', 'cat.19.jpg', 'cat.190.jpg', 'cat.191.jpg', 'cat.192.jpg', 'cat.193.jpg', 'cat.194.jpg', 'cat.195.jpg', 'cat.196.jpg', 'cat.197.jpg', 'cat.198.jpg', 'cat.199.jpg', 'cat.2.jpg', 'cat.20.jpg', 'cat.200.jpg', 'cat.201.jpg', 'cat.202.jpg', 'cat.203.jpg', 'cat.204.jpg', 'cat.205.jpg', 'cat.206.jpg', 'cat.207.jpg', 'cat.208.jpg', 'cat.209.jpg', 'cat.21.jpg', 'cat.210.jpg', 'cat.211.jpg', 'cat.212.jpg', 'cat.213.jpg', 'cat.214.jpg', 'cat.215.jpg', 'cat.216.jpg', 'cat.217.jpg', 'cat.218.jpg', 'cat.219.jpg', 'cat.22.jpg', 'cat.220.jpg', 'cat.221.jpg', 'cat.222.jpg', 'cat.223.jpg', 'cat.224.jpg', 'cat.225.jpg', 'cat.226.jpg', 'cat.227.jpg', 'cat.228.jpg', 'cat.229.jpg', 'cat.23.jpg', 'cat.230.jpg', 'cat.231.jpg', 'cat.232.jpg', 'cat.233.jpg', 'cat.234.jpg', 'cat.235.jpg', 'cat.236.jpg', 'cat.237.jpg', 'cat.238.jpg', 'cat.239.jpg', 'cat.24.jpg', 'cat.240.jpg', 'cat.241.jpg', 'cat.242.jpg', 'cat.243.jpg', 'cat.244.jpg', 'cat.245.jpg', 'cat.246.jpg', 'cat.247.jpg', 'cat.248.jpg', 'cat.249.jpg', 'cat.25.jpg', 'cat.250.jpg', 'cat.251.jpg', 'cat.252.jpg', 'cat.253.jpg', 'cat.254.jpg', 'cat.255.jpg', 'cat.256.jpg', 'cat.257.jpg', 'cat.258.jpg', 'cat.259.jpg', 'cat.26.jpg', 'cat.260.jpg', 'cat.261.jpg', 'cat.262.jpg', 'cat.263.jpg', 'cat.264.jpg', 'cat.265.jpg', 'cat.266.jpg', 'cat.267.jpg', 'cat.268.jpg', 'cat.269.jpg', 'cat.27.jpg', 'cat.270.jpg', 'cat.271.jpg', 'cat.272.jpg', 'cat.273.jpg', 'cat.274.jpg', 'cat.275.jpg', 'cat.276.jpg', 'cat.277.jpg', 'cat.278.jpg', 'cat.279.jpg', 'cat.28.jpg', 'cat.280.jpg', 'cat.281.jpg', 'cat.282.jpg', 'cat.283.jpg', 'cat.284.jpg', 'cat.285.jpg', 'cat.286.jpg', 'cat.287.jpg', 'cat.288.jpg', 'cat.289.jpg', 'cat.29.jpg', 'cat.290.jpg', 'cat.291.jpg', 'cat.292.jpg', 'cat.293.jpg', 'cat.294.jpg', 'cat.295.jpg', 'cat.296.jpg', 'cat.297.jpg', 'cat.298.jpg', 'cat.299.jpg', 'cat.3.jpg', 'cat.30.jpg', 'cat.300.jpg', 'cat.301.jpg', 'cat.302.jpg', 'cat.303.jpg', 'cat.304.jpg', 'cat.305.jpg', 'cat.306.jpg', 'cat.307.jpg', 'cat.308.jpg', 'cat.309.jpg', 'cat.31.jpg', 'cat.310.jpg', 'cat.311.jpg', 'cat.312.jpg', 'cat.313.jpg', 'cat.314.jpg', 'cat.315.jpg', 'cat.316.jpg', 'cat.317.jpg', 'cat.318.jpg', 'cat.319.jpg', 'cat.32.jpg', 'cat.320.jpg', 'cat.321.jpg', 'cat.322.jpg', 'cat.323.jpg', 'cat.324.jpg', 'cat.325.jpg', 'cat.326.jpg', 'cat.327.jpg', 'cat.328.jpg', 'cat.329.jpg', 'cat.33.jpg', 'cat.330.jpg', 'cat.331.jpg', 'cat.332.jpg', 'cat.333.jpg', 'cat.334.jpg', 'cat.335.jpg', 'cat.336.jpg', 'cat.337.jpg', 'cat.338.jpg', 'cat.339.jpg', 'cat.34.jpg', 'cat.340.jpg', 'cat.341.jpg', 'cat.342.jpg', 'cat.343.jpg', 'cat.344.jpg', 'cat.345.jpg', 'cat.346.jpg', 'cat.347.jpg', 'cat.348.jpg', 'cat.349.jpg', 'cat.35.jpg', 'cat.350.jpg', 'cat.351.jpg', 'cat.352.jpg', 'cat.353.jpg', 'cat.354.jpg', 'cat.355.jpg', 'cat.356.jpg', 'cat.357.jpg', 'cat.358.jpg', 'cat.359.jpg', 'cat.36.jpg', 'cat.360.jpg', 'cat.361.jpg', 'cat.362.jpg', 'cat.363.jpg', 'cat.364.jpg', 'cat.365.jpg', 'cat.366.jpg', 'cat.367.jpg', 'cat.368.jpg', 'cat.369.jpg', 'cat.37.jpg', 'cat.370.jpg', 'cat.371.jpg', 'cat.372.jpg', 'cat.373.jpg', 'cat.374.jpg', 'cat.375.jpg', 'cat.376.jpg', 'cat.377.jpg', 'cat.378.jpg', 'cat.379.jpg', 'cat.38.jpg', 'cat.380.jpg', 'cat.381.jpg', 'cat.382.jpg', 'cat.383.jpg', 'cat.384.jpg', 'cat.385.jpg', 'cat.386.jpg', 'cat.387.jpg', 'cat.388.jpg', 'cat.389.jpg', 'cat.39.jpg', 'cat.390.jpg', 'cat.391.jpg', 'cat.392.jpg', 'cat.393.jpg', 'cat.394.jpg', 'cat.395.jpg', 'cat.396.jpg', 'cat.397.jpg', 'cat.398.jpg', 'cat.399.jpg', 'cat.4.jpg', 'cat.40.jpg', 'cat.400.jpg', 'cat.401.jpg', 'cat.402.jpg', 'cat.403.jpg', 'cat.404.jpg', 'cat.405.jpg', 'cat.406.jpg', 'cat.407.jpg', 'cat.408.jpg', 'cat.409.jpg', 'cat.41.jpg', 'cat.410.jpg', 'cat.411.jpg', 'cat.412.jpg', 'cat.413.jpg', 'cat.414.jpg', 'cat.415.jpg', 'cat.416.jpg', 'cat.417.jpg', 'cat.418.jpg', 'cat.419.jpg', 'cat.42.jpg', 'cat.420.jpg', 'cat.421.jpg', 'cat.422.jpg', 'cat.423.jpg', 'cat.424.jpg', 'cat.425.jpg', 'cat.426.jpg', 'cat.427.jpg', 'cat.428.jpg', 'cat.429.jpg', 'cat.43.jpg', 'cat.430.jpg', 'cat.431.jpg', 'cat.432.jpg', 'cat.433.jpg', 'cat.434.jpg', 'cat.435.jpg', 'cat.436.jpg', 'cat.437.jpg', 'cat.438.jpg', 'cat.439.jpg', 'cat.44.jpg', 'cat.440.jpg', 'cat.441.jpg', 'cat.442.jpg', 'cat.443.jpg', 'cat.444.jpg', 'cat.445.jpg', 'cat.446.jpg', 'cat.447.jpg', 'cat.448.jpg', 'cat.449.jpg', 'cat.45.jpg', 'cat.450.jpg', 'cat.451.jpg', 'cat.452.jpg', 'cat.453.jpg', 'cat.454.jpg', 'cat.455.jpg', 'cat.456.jpg', 'cat.457.jpg', 'cat.458.jpg', 'cat.459.jpg', 'cat.46.jpg', 'cat.460.jpg', 'cat.461.jpg', 'cat.462.jpg', 'cat.463.jpg', 'cat.464.jpg', 'cat.465.jpg', 'cat.466.jpg', 'cat.467.jpg', 'cat.468.jpg', 'cat.469.jpg', 'cat.47.jpg', 'cat.470.jpg', 'cat.471.jpg', 'cat.472.jpg', 'cat.473.jpg', 'cat.474.jpg', 'cat.475.jpg', 'cat.476.jpg', 'cat.477.jpg', 'cat.478.jpg', 'cat.479.jpg', 'cat.48.jpg', 'cat.480.jpg', 'cat.481.jpg', 'cat.482.jpg', 'cat.483.jpg', 'cat.484.jpg', 'cat.485.jpg', 'cat.486.jpg', 'cat.487.jpg', 'cat.488.jpg', 'cat.489.jpg', 'cat.49.jpg', 'cat.490.jpg', 'cat.491.jpg', 'cat.492.jpg', 'cat.493.jpg', 'cat.494.jpg', 'cat.495.jpg', 'cat.496.jpg', 'cat.497.jpg', 'cat.498.jpg', 'cat.499.jpg', 'cat.5.jpg', 'cat.50.jpg', 'cat.500.jpg', 'cat.501.jpg', 'cat.502.jpg', 'cat.503.jpg', 'cat.504.jpg', 'cat.505.jpg', 'cat.506.jpg', 'cat.507.jpg', 'cat.508.jpg', 'cat.509.jpg', 'cat.51.jpg', 'cat.510.jpg', 'cat.511.jpg', 'cat.512.jpg', 'cat.513.jpg', 'cat.514.jpg', 'cat.515.jpg', 'cat.516.jpg', 'cat.517.jpg', 'cat.518.jpg', 'cat.519.jpg', 'cat.52.jpg', 'cat.520.jpg', 'cat.521.jpg', 'cat.522.jpg', 'cat.523.jpg', 'cat.524.jpg', 'cat.525.jpg', 'cat.526.jpg', 'cat.527.jpg', 'cat.528.jpg', 'cat.529.jpg', 'cat.53.jpg', 'cat.530.jpg', 'cat.531.jpg', 'cat.532.jpg', 'cat.533.jpg', 'cat.534.jpg', 'cat.535.jpg', 'cat.536.jpg', 'cat.537.jpg', 'cat.538.jpg', 'cat.539.jpg', 'cat.54.jpg', 'cat.540.jpg', 'cat.541.jpg', 'cat.542.jpg', 'cat.543.jpg', 'cat.544.jpg', 'cat.545.jpg', 'cat.546.jpg', 'cat.547.jpg', 'cat.548.jpg', 'cat.549.jpg', 'cat.55.jpg', 'cat.550.jpg', 'cat.551.jpg', 'cat.552.jpg', 'cat.553.jpg', 'cat.554.jpg', 'cat.555.jpg', 'cat.556.jpg', 'cat.557.jpg', 'cat.558.jpg', 'cat.559.jpg', 'cat.56.jpg', 'cat.560.jpg', 'cat.561.jpg', 'cat.562.jpg', 'cat.563.jpg', 'cat.564.jpg', 'cat.565.jpg', 'cat.566.jpg', 'cat.567.jpg', 'cat.568.jpg', 'cat.569.jpg', 'cat.57.jpg', 'cat.570.jpg', 'cat.571.jpg', 'cat.572.jpg', 'cat.573.jpg', 'cat.574.jpg', 'cat.575.jpg', 'cat.576.jpg', 'cat.577.jpg', 'cat.578.jpg', 'cat.579.jpg', 'cat.58.jpg', 'cat.580.jpg', 'cat.581.jpg', 'cat.582.jpg', 'cat.583.jpg', 'cat.584.jpg', 'cat.585.jpg', 'cat.586.jpg', 'cat.587.jpg', 'cat.588.jpg', 'cat.589.jpg', 'cat.59.jpg', 'cat.590.jpg', 'cat.591.jpg', 'cat.592.jpg', 'cat.593.jpg', 'cat.594.jpg', 'cat.595.jpg', 'cat.596.jpg', 'cat.597.jpg', 'cat.598.jpg', 'cat.599.jpg', 'cat.6.jpg', 'cat.60.jpg', 'cat.600.jpg', 'cat.601.jpg', 'cat.602.jpg', 'cat.603.jpg', 'cat.604.jpg', 'cat.605.jpg', 'cat.606.jpg', 'cat.607.jpg', 'cat.608.jpg', 'cat.609.jpg', 'cat.61.jpg', 'cat.610.jpg', 'cat.611.jpg', 'cat.612.jpg', 'cat.613.jpg', 'cat.614.jpg', 'cat.615.jpg', 'cat.616.jpg', 'cat.617.jpg', 'cat.618.jpg', 'cat.619.jpg', 'cat.62.jpg', 'cat.620.jpg', 'cat.621.jpg', 'cat.622.jpg', 'cat.623.jpg', 'cat.624.jpg', 'cat.625.jpg', 'cat.626.jpg', 'cat.627.jpg', 'cat.628.jpg', 'cat.629.jpg', 'cat.63.jpg', 'cat.630.jpg', 'cat.631.jpg', 'cat.632.jpg', 'cat.633.jpg', 'cat.634.jpg', 'cat.635.jpg', 'cat.636.jpg', 'cat.637.jpg', 'cat.638.jpg', 'cat.639.jpg', 'cat.64.jpg', 'cat.640.jpg', 'cat.641.jpg', 'cat.642.jpg', 'cat.643.jpg', 'cat.644.jpg', 'cat.645.jpg', 'cat.646.jpg', 'cat.647.jpg', 'cat.648.jpg', 'cat.649.jpg', 'cat.65.jpg', 'cat.650.jpg', 'cat.651.jpg', 'cat.652.jpg', 'cat.653.jpg', 'cat.654.jpg', 'cat.655.jpg', 'cat.656.jpg', 'cat.657.jpg', 'cat.658.jpg', 'cat.659.jpg', 'cat.66.jpg', 'cat.660.jpg', 'cat.661.jpg', 'cat.662.jpg', 'cat.663.jpg', 'cat.664.jpg', 'cat.665.jpg', 'cat.666.jpg', 'cat.667.jpg', 'cat.668.jpg', 'cat.669.jpg', 'cat.67.jpg', 'cat.670.jpg', 'cat.671.jpg', 'cat.672.jpg', 'cat.673.jpg', 'cat.674.jpg', 'cat.675.jpg', 'cat.676.jpg', 'cat.677.jpg', 'cat.678.jpg', 'cat.679.jpg', 'cat.68.jpg', 'cat.680.jpg', 'cat.681.jpg', 'cat.682.jpg', 'cat.683.jpg', 'cat.684.jpg', 'cat.685.jpg', 'cat.686.jpg', 'cat.687.jpg', 'cat.688.jpg', 'cat.689.jpg', 'cat.69.jpg', 'cat.690.jpg', 'cat.691.jpg', 'cat.692.jpg', 'cat.693.jpg', 'cat.694.jpg', 'cat.695.jpg', 'cat.696.jpg', 'cat.697.jpg', 'cat.698.jpg', 'cat.699.jpg', 'cat.7.jpg', 'cat.70.jpg', 'cat.700.jpg', 'cat.701.jpg', 'cat.702.jpg', 'cat.703.jpg', 'cat.704.jpg', 'cat.705.jpg', 'cat.706.jpg', 'cat.707.jpg', 'cat.708.jpg', 'cat.709.jpg', 'cat.71.jpg', 'cat.710.jpg', 'cat.711.jpg', 'cat.712.jpg', 'cat.713.jpg', 'cat.714.jpg', 'cat.715.jpg', 'cat.716.jpg', 'cat.717.jpg', 'cat.718.jpg', 'cat.719.jpg', 'cat.72.jpg', 'cat.720.jpg', 'cat.721.jpg', 'cat.722.jpg', 'cat.723.jpg', 'cat.724.jpg', 'cat.725.jpg', 'cat.726.jpg', 'cat.727.jpg', 'cat.728.jpg', 'cat.729.jpg', 'cat.73.jpg', 'cat.730.jpg', 'cat.731.jpg', 'cat.732.jpg', 'cat.733.jpg', 'cat.734.jpg', 'cat.735.jpg', 'cat.736.jpg', 'cat.737.jpg', 'cat.738.jpg', 'cat.739.jpg', 'cat.74.jpg', 'cat.740.jpg', 'cat.741.jpg', 'cat.742.jpg', 'cat.743.jpg', 'cat.744.jpg', 'cat.745.jpg', 'cat.746.jpg', 'cat.747.jpg', 'cat.748.jpg', 'cat.749.jpg', 'cat.75.jpg', 'cat.750.jpg', 'cat.751.jpg', 'cat.752.jpg', 'cat.753.jpg', 'cat.754.jpg', 'cat.755.jpg', 'cat.756.jpg', 'cat.757.jpg', 'cat.758.jpg', 'cat.759.jpg', 'cat.76.jpg', 'cat.760.jpg', 'cat.761.jpg', 'cat.762.jpg', 'cat.763.jpg', 'cat.764.jpg', 'cat.765.jpg', 'cat.766.jpg', 'cat.767.jpg', 'cat.768.jpg', 'cat.769.jpg', 'cat.77.jpg', 'cat.770.jpg', 'cat.771.jpg', 'cat.772.jpg', 'cat.773.jpg', 'cat.774.jpg', 'cat.775.jpg', 'cat.776.jpg', 'cat.777.jpg', 'cat.778.jpg', 'cat.779.jpg', 'cat.78.jpg', 'cat.780.jpg', 'cat.781.jpg', 'cat.782.jpg', 'cat.783.jpg', 'cat.784.jpg', 'cat.785.jpg', 'cat.786.jpg', 'cat.787.jpg', 'cat.788.jpg', 'cat.789.jpg', 'cat.79.jpg', 'cat.790.jpg', 'cat.791.jpg', 'cat.792.jpg', 'cat.793.jpg', 'cat.794.jpg', 'cat.795.jpg', 'cat.796.jpg', 'cat.797.jpg', 'cat.798.jpg', 'cat.799.jpg', 'cat.8.jpg', 'cat.80.jpg', 'cat.800.jpg', 'cat.801.jpg', 'cat.802.jpg', 'cat.803.jpg', 'cat.804.jpg', 'cat.805.jpg', 'cat.806.jpg', 'cat.807.jpg', 'cat.808.jpg', 'cat.809.jpg', 'cat.81.jpg', 'cat.810.jpg', 'cat.811.jpg', 'cat.812.jpg', 'cat.813.jpg', 'cat.814.jpg', 'cat.815.jpg', 'cat.816.jpg', 'cat.817.jpg', 'cat.818.jpg', 'cat.819.jpg', 'cat.82.jpg', 'cat.820.jpg', 'cat.821.jpg', 'cat.822.jpg', 'cat.823.jpg', 'cat.824.jpg', 'cat.825.jpg', 'cat.826.jpg', 'cat.827.jpg', 'cat.828.jpg', 'cat.829.jpg', 'cat.83.jpg', 'cat.830.jpg', 'cat.831.jpg', 'cat.832.jpg', 'cat.833.jpg', 'cat.834.jpg', 'cat.835.jpg', 'cat.836.jpg', 'cat.837.jpg', 'cat.838.jpg', 'cat.839.jpg', 'cat.84.jpg', 'cat.840.jpg', 'cat.841.jpg', 'cat.842.jpg', 'cat.843.jpg', 'cat.844.jpg', 'cat.845.jpg', 'cat.846.jpg', 'cat.847.jpg', 'cat.848.jpg', 'cat.849.jpg', 'cat.85.jpg', 'cat.850.jpg', 'cat.851.jpg', 'cat.852.jpg', 'cat.853.jpg', 'cat.854.jpg', 'cat.855.jpg', 'cat.856.jpg', 'cat.857.jpg', 'cat.858.jpg', 'cat.859.jpg', 'cat.86.jpg', 'cat.860.jpg', 'cat.861.jpg', 'cat.862.jpg', 'cat.863.jpg', 'cat.864.jpg', 'cat.865.jpg', 'cat.866.jpg', 'cat.867.jpg', 'cat.868.jpg', 'cat.869.jpg', 'cat.87.jpg', 'cat.870.jpg', 'cat.871.jpg', 'cat.872.jpg', 'cat.873.jpg', 'cat.874.jpg', 'cat.875.jpg', 'cat.876.jpg', 'cat.877.jpg', 'cat.878.jpg', 'cat.879.jpg', 'cat.88.jpg', 'cat.880.jpg', 'cat.881.jpg', 'cat.882.jpg', 'cat.883.jpg', 'cat.884.jpg', 'cat.885.jpg', 'cat.886.jpg', 'cat.887.jpg', 'cat.888.jpg', 'cat.889.jpg', 'cat.89.jpg', 'cat.890.jpg', 'cat.891.jpg', 'cat.892.jpg', 'cat.893.jpg', 'cat.894.jpg', 'cat.895.jpg', 'cat.896.jpg', 'cat.897.jpg', 'cat.898.jpg', 'cat.899.jpg', 'cat.9.jpg', 'cat.90.jpg', 'cat.900.jpg', 'cat.901.jpg', 'cat.902.jpg', 'cat.903.jpg', 'cat.904.jpg', 'cat.905.jpg', 'cat.906.jpg', 'cat.907.jpg', 'cat.908.jpg', 'cat.909.jpg', 'cat.91.jpg', 'cat.910.jpg', 'cat.911.jpg', 'cat.912.jpg', 'cat.913.jpg', 'cat.914.jpg', 'cat.915.jpg', 'cat.916.jpg', 'cat.917.jpg', 'cat.918.jpg', 'cat.919.jpg', 'cat.92.jpg', 'cat.920.jpg', 'cat.921.jpg', 'cat.922.jpg', 'cat.923.jpg', 'cat.924.jpg', 'cat.925.jpg', 'cat.926.jpg', 'cat.927.jpg', 'cat.928.jpg', 'cat.929.jpg', 'cat.93.jpg', 'cat.930.jpg', 'cat.931.jpg', 'cat.932.jpg', 'cat.933.jpg', 'cat.934.jpg', 'cat.935.jpg', 'cat.936.jpg', 'cat.937.jpg', 'cat.938.jpg', 'cat.939.jpg', 'cat.94.jpg', 'cat.940.jpg', 'cat.941.jpg', 'cat.942.jpg', 'cat.943.jpg', 'cat.944.jpg', 'cat.945.jpg', 'cat.946.jpg', 'cat.947.jpg', 'cat.948.jpg', 'cat.949.jpg', 'cat.95.jpg', 'cat.950.jpg', 'cat.951.jpg', 'cat.952.jpg', 'cat.953.jpg', 'cat.954.jpg', 'cat.955.jpg', 'cat.956.jpg', 'cat.957.jpg', 'cat.958.jpg', 'cat.959.jpg', 'cat.96.jpg', 'cat.960.jpg', 'cat.961.jpg', 'cat.962.jpg', 'cat.963.jpg', 'cat.964.jpg', 'cat.965.jpg', 'cat.966.jpg', 'cat.967.jpg', 'cat.968.jpg', 'cat.969.jpg', 'cat.97.jpg', 'cat.970.jpg', 'cat.971.jpg', 'cat.972.jpg', 'cat.973.jpg', 'cat.974.jpg', 'cat.975.jpg', 'cat.976.jpg', 'cat.977.jpg', 'cat.978.jpg', 'cat.979.jpg', 'cat.98.jpg', 'cat.980.jpg', 'cat.981.jpg', 'cat.982.jpg', 'cat.983.jpg', 'cat.984.jpg', 'cat.985.jpg', 'cat.986.jpg', 'cat.987.jpg', 'cat.988.jpg', 'cat.989.jpg', 'cat.99.jpg', 'cat.990.jpg', 'cat.991.jpg', 'cat.992.jpg', 'cat.993.jpg', 'cat.994.jpg', 'cat.995.jpg', 'cat.996.jpg', 'cat.997.jpg', 'cat.998.jpg', 'cat.999.jpg']\n"
     ]
    }
   ],
   "source": [
    "train_cats_dir = os.path.join(train_dir, 'cats')  \n",
    "train_dogs_dir = os.path.join(train_dir, 'dogs')  \n",
    "validation_cats_dir = os.path.join(validation_dir, 'cats')  \n",
    "validation_dogs_dir = os.path.join(validation_dir, 'dogs')\n",
    "print(os.listdir(train_cats_dir))"
   ]
  },
  {
   "cell_type": "code",
   "execution_count": 5,
   "metadata": {},
   "outputs": [],
   "source": [
    "num_cats_tr = len(os.listdir(train_cats_dir))\n",
    "num_dogs_tr = len(os.listdir(train_dogs_dir))\n",
    "\n",
    "num_cats_val = len(os.listdir(validation_cats_dir))\n",
    "num_dogs_val = len(os.listdir(validation_dogs_dir))\n",
    "\n",
    "total_train = num_cats_tr + num_dogs_tr\n",
    "total_val = num_cats_val + num_dogs_val"
   ]
  },
  {
   "cell_type": "code",
   "execution_count": 9,
   "metadata": {},
   "outputs": [
    {
     "name": "stdout",
     "output_type": "stream",
     "text": [
      "total training cat images: 1000\n",
      "total training dog images: 1000\n",
      "total validation cat images: 500\n",
      "total validation dog images: 500\n",
      "--\n",
      "Total training images: 2000\n",
      "Total validation images: 1000\n"
     ]
    }
   ],
   "source": [
    "print('total training cat images:', num_cats_tr)\n",
    "print('total training dog images:', num_dogs_tr)\n",
    "\n",
    "print('total validation cat images:', num_cats_val)\n",
    "print('total validation dog images:', num_dogs_val)\n",
    "print(\"--\")\n",
    "print(\"Total training images:\", total_train)\n",
    "print(\"Total validation images:\", total_val)"
   ]
  },
  {
   "cell_type": "code",
   "execution_count": 10,
   "metadata": {},
   "outputs": [],
   "source": [
    "batch_size = 128\n",
    "epochs = 15\n",
    "IMG_HEIGHT = 150\n",
    "IMG_WIDTH = 150"
   ]
  },
  {
   "cell_type": "code",
   "execution_count": 11,
   "metadata": {},
   "outputs": [],
   "source": [
    "train_image_generator = ImageDataGenerator(rescale=1./255)\n",
    "validation_image_generator = ImageDataGenerator(rescale=1./255)"
   ]
  },
  {
   "cell_type": "code",
   "execution_count": 12,
   "metadata": {},
   "outputs": [
    {
     "name": "stdout",
     "output_type": "stream",
     "text": [
      "Found 2000 images belonging to 2 classes.\n"
     ]
    }
   ],
   "source": [
    "train_data_gen = train_image_generator.flow_from_directory(batch_size=batch_size,\n",
    "                                                           directory=train_dir,\n",
    "                                                           shuffle=True,\n",
    "                                                           target_size=(IMG_HEIGHT, IMG_WIDTH),\n",
    "                                                           class_mode='binary')"
   ]
  },
  {
   "cell_type": "code",
   "execution_count": 13,
   "metadata": {},
   "outputs": [
    {
     "name": "stdout",
     "output_type": "stream",
     "text": [
      "Found 1000 images belonging to 2 classes.\n"
     ]
    }
   ],
   "source": [
    "val_data_gen = validation_image_generator.flow_from_directory(batch_size=batch_size,\n",
    "                                                              directory=validation_dir,\n",
    "                                                              target_size=(IMG_HEIGHT, IMG_WIDTH),\n",
    "                                                              class_mode='binary')"
   ]
  },
  {
   "cell_type": "code",
   "execution_count": 14,
   "metadata": {},
   "outputs": [],
   "source": [
    "model = Sequential([\n",
    "    Conv2D(16, 3, padding='same', activation='relu', input_shape=(IMG_HEIGHT, IMG_WIDTH ,3)),\n",
    "    MaxPooling2D(),\n",
    "    Conv2D(32, 3, padding='same', activation='relu'),\n",
    "    MaxPooling2D(),\n",
    "    Conv2D(64, 3, padding='same', activation='relu'),\n",
    "    MaxPooling2D(),\n",
    "    Flatten(),\n",
    "    Dense(512, activation='relu'),\n",
    "    Dense(1)\n",
    "])"
   ]
  },
  {
   "cell_type": "code",
   "execution_count": 20,
   "metadata": {},
   "outputs": [],
   "source": [
    "model.compile(optimizer='adam',\n",
    "                  loss=tf.keras.losses.BinaryCrossentropy(from_logits=True),\n",
    "                  metrics=['accuracy'])"
   ]
  },
  {
   "cell_type": "code",
   "execution_count": 21,
   "metadata": {},
   "outputs": [
    {
     "name": "stdout",
     "output_type": "stream",
     "text": [
      "Model: \"sequential\"\n",
      "_________________________________________________________________\n",
      "Layer (type)                 Output Shape              Param #   \n",
      "=================================================================\n",
      "conv2d (Conv2D)              (None, 150, 150, 16)      448       \n",
      "_________________________________________________________________\n",
      "max_pooling2d (MaxPooling2D) (None, 75, 75, 16)        0         \n",
      "_________________________________________________________________\n",
      "conv2d_1 (Conv2D)            (None, 75, 75, 32)        4640      \n",
      "_________________________________________________________________\n",
      "max_pooling2d_1 (MaxPooling2 (None, 37, 37, 32)        0         \n",
      "_________________________________________________________________\n",
      "conv2d_2 (Conv2D)            (None, 37, 37, 64)        18496     \n",
      "_________________________________________________________________\n",
      "max_pooling2d_2 (MaxPooling2 (None, 18, 18, 64)        0         \n",
      "_________________________________________________________________\n",
      "flatten (Flatten)            (None, 20736)             0         \n",
      "_________________________________________________________________\n",
      "dense (Dense)                (None, 512)               10617344  \n",
      "_________________________________________________________________\n",
      "dense_1 (Dense)              (None, 1)                 513       \n",
      "=================================================================\n",
      "Total params: 10,641,441\n",
      "Trainable params: 10,641,441\n",
      "Non-trainable params: 0\n",
      "_________________________________________________________________\n"
     ]
    }
   ],
   "source": [
    "model.summary()"
   ]
  },
  {
   "cell_type": "code",
   "execution_count": 22,
   "metadata": {},
   "outputs": [
    {
     "name": "stdout",
     "output_type": "stream",
     "text": [
      "WARNING:tensorflow:sample_weight modes were coerced from\n",
      "  ...\n",
      "    to  \n",
      "  ['...']\n",
      "WARNING:tensorflow:sample_weight modes were coerced from\n",
      "  ...\n",
      "    to  \n",
      "  ['...']\n",
      "Train for 15 steps, validate for 7 steps\n",
      "Epoch 1/15\n",
      "15/15 [==============================] - 22s 1s/step - loss: 0.8948 - accuracy: 0.5059 - val_loss: 0.6897 - val_accuracy: 0.4933\n",
      "Epoch 2/15\n",
      "15/15 [==============================] - 24s 2s/step - loss: 0.6826 - accuracy: 0.5150 - val_loss: 0.6687 - val_accuracy: 0.5056\n",
      "Epoch 3/15\n",
      "15/15 [==============================] - 24s 2s/step - loss: 0.6538 - accuracy: 0.5513 - val_loss: 0.6512 - val_accuracy: 0.6808\n",
      "Epoch 4/15\n",
      "15/15 [==============================] - 24s 2s/step - loss: 0.6073 - accuracy: 0.6592 - val_loss: 0.6113 - val_accuracy: 0.7054\n",
      "Epoch 5/15\n",
      "15/15 [==============================] - 23s 2s/step - loss: 0.5687 - accuracy: 0.7035 - val_loss: 0.5854 - val_accuracy: 0.6518\n",
      "Epoch 6/15\n",
      "15/15 [==============================] - 23s 2s/step - loss: 0.5098 - accuracy: 0.7206 - val_loss: 0.5747 - val_accuracy: 0.6920\n",
      "Epoch 7/15\n",
      "15/15 [==============================] - 24s 2s/step - loss: 0.4563 - accuracy: 0.7714 - val_loss: 0.5699 - val_accuracy: 0.6842\n",
      "Epoch 8/15\n",
      "15/15 [==============================] - 24s 2s/step - loss: 0.4012 - accuracy: 0.8098 - val_loss: 0.6460 - val_accuracy: 0.6250\n",
      "Epoch 9/15\n",
      "15/15 [==============================] - 24s 2s/step - loss: 0.3675 - accuracy: 0.8203 - val_loss: 0.5810 - val_accuracy: 0.7165\n",
      "Epoch 10/15\n",
      "15/15 [==============================] - 23s 2s/step - loss: 0.3031 - accuracy: 0.8675 - val_loss: 0.7292 - val_accuracy: 0.7109\n",
      "Epoch 11/15\n",
      "15/15 [==============================] - 25s 2s/step - loss: 0.2903 - accuracy: 0.8719 - val_loss: 0.6163 - val_accuracy: 0.7132\n",
      "Epoch 12/15\n",
      "15/15 [==============================] - 24s 2s/step - loss: 0.2139 - accuracy: 0.9161 - val_loss: 0.7008 - val_accuracy: 0.6931\n",
      "Epoch 13/15\n",
      "15/15 [==============================] - 23s 2s/step - loss: 0.1797 - accuracy: 0.9279 - val_loss: 0.6867 - val_accuracy: 0.7333\n",
      "Epoch 14/15\n",
      "15/15 [==============================] - 23s 2s/step - loss: 0.1339 - accuracy: 0.9476 - val_loss: 0.7575 - val_accuracy: 0.7277\n",
      "Epoch 15/15\n",
      "15/15 [==============================] - 23s 2s/step - loss: 0.1048 - accuracy: 0.9626 - val_loss: 0.8545 - val_accuracy: 0.7310\n"
     ]
    }
   ],
   "source": [
    "history = model.fit(\n",
    "    train_data_gen,\n",
    "    steps_per_epoch=total_train // batch_size,\n",
    "    epochs=epochs,\n",
    "    validation_data=val_data_gen,\n",
    "    validation_steps=total_val // batch_size\n",
    ")"
   ]
  },
  {
   "cell_type": "code",
   "execution_count": 23,
   "metadata": {},
   "outputs": [
    {
     "data": {
      "image/png": "[encoded data removed]",
      "text/plain": [
       "<Figure size 576x576 with 2 Axes>"
      ]
     },
     "metadata": {
      "needs_background": "light"
     },
     "output_type": "display_data"
    }
   ],
   "source": [
    "acc = history.history['accuracy']\n",
    "val_acc = history.history['val_accuracy']\n",
    "\n",
    "loss=history.history['loss']\n",
    "val_loss=history.history['val_loss']\n",
    "\n",
    "epochs_range = range(epochs)\n",
    "\n",
    "plt.figure(figsize=(8, 8))\n",
    "plt.subplot(1, 2, 1)\n",
    "plt.plot(epochs_range, acc, label='Training Accuracy')\n",
    "plt.plot(epochs_range, val_acc, label='Validation Accuracy')\n",
    "plt.legend(loc='lower right')\n",
    "plt.title('Training and Validation Accuracy')\n",
    "\n",
    "plt.subplot(1, 2, 2)\n",
    "plt.plot(epochs_range, loss, label='Training Loss')\n",
    "plt.plot(epochs_range, val_loss, label='Validation Loss')\n",
    "plt.legend(loc='upper right')\n",
    "plt.title('Training and Validation Loss')\n",
    "plt.show()"
   ]
  },
  {
   "cell_type": "code",
   "execution_count": 42,
   "metadata": {},
   "outputs": [
    {
     "name": "stdout",
     "output_type": "stream",
     "text": [
      "['cat.0.jpg', 'cat.1.jpg', 'cat.2.jpg', 'cat.3.jpg', 'cat.4.jpg', 'cat.5.jpg', 'cat.6.jpg', 'dog.0.jpg', 'dog.1.jpg', 'dog.10.jpg', 'dog.11.jpg', 'dog.12.jpg', 'dog.2.jpg', 'dog.3.jpg', 'dog.4.jpg', 'dog.5.jpg', 'dog.7.jpg', 'dog.8.jpg', 'dog.9.jpg', 'download (1).jpg']\n"
     ]
    }
   ],
   "source": [
    "from os import listdir\n",
    "from os.path import isfile,join\n",
    "import numpy as np\n",
    "\n",
    "predict_dir_path='test/'\n",
    "test_files = [f for f in listdir(predict_dir_path) if isfile(join(predict_dir_path, f))]\n",
    "print(test_files)\n",
    "IMG_WIDTH=150 \n",
    "IMG_HEIGHT=150"
   ]
  },
  {
   "cell_type": "code",
   "execution_count": 44,
   "metadata": {},
   "outputs": [
    {
     "name": "stdout",
     "output_type": "stream",
     "text": [
      "cat.0.jpg: dog\n",
      "cat.1.jpg: cat\n",
      "cat.2.jpg: cat\n",
      "cat.3.jpg: cat\n",
      "cat.4.jpg: cat\n",
      "cat.5.jpg: cat\n",
      "cat.6.jpg: dog\n",
      "dog.0.jpg: dog\n",
      "dog.1.jpg: dog\n",
      "dog.10.jpg: dog\n",
      "dog.11.jpg: dog\n",
      "dog.12.jpg: dog\n",
      "dog.2.jpg: dog\n",
      "dog.3.jpg: dog\n",
      "dog.4.jpg: dog\n",
      "dog.5.jpg: dog\n",
      "dog.7.jpg: dog\n",
      "dog.8.jpg: dog\n",
      "dog.9.jpg: dog\n",
      "download (1).jpg: dog\n"
     ]
    }
   ],
   "source": [
    "from keras.preprocessing import image\n",
    "\n",
    "dog_counter = 0 \n",
    "cat_counter  = 0\n",
    "for file in onlyfiles:\n",
    "    img = image.load_img(predict_dir_path+file, target_size=(IMG_WIDTH, IMG_HEIGHT))\n",
    "    x = image.img_to_array(img)\n",
    "    x = np.expand_dims(x, axis=0)\n",
    "    \n",
    "    images = np.vstack([x])\n",
    "    classes = model.predict_classes(images, batch_size=10)\n",
    "    classes = classes[0][0]\n",
    "    \n",
    "    if classes == 0:\n",
    "        print(file + \": \" + 'cat')\n",
    "        cat_counter += 1\n",
    "    else:\n",
    "        print(file + \": \" + 'dog')\n",
    "        dog_counter += 1"
   ]
  },
  {
   "cell_type": "code",
   "execution_count": null,
   "metadata": {},
   "outputs": [],
   "source": []
  }
 ],
 "metadata": {
  "kernelspec": {
   "display_name": "Python 3",
   "language": "python",
   "name": "python3"
  },
  "language_info": {
   "codemirror_mode": {
    "name": "ipython",
    "version": 3
   },
   "file_extension": ".py",
   "mimetype": "text/x-python",
   "name": "python",
   "nbconvert_exporter": "python",
   "pygments_lexer": "ipython3",
   "version": "3.7.6"
  }
 },
 "nbformat": 4,
 "nbformat_minor": 4
}
